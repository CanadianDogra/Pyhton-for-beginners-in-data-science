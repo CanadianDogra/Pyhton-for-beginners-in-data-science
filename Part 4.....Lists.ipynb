{
 "cells": [
  {
   "cell_type": "markdown",
   "id": "2a7703ed",
   "metadata": {},
   "source": [
    "# Lists"
   ]
  },
  {
   "cell_type": "code",
   "execution_count": 1,
   "id": "f0fb33f0",
   "metadata": {},
   "outputs": [],
   "source": [
    "# list is an ordered sequance of mined data types\n",
    "# lists are written as comma (,) seperated woth square brackets []\n",
    "\n",
    "# just like tuples which use parenthesis , lists will use square brackets[]\n"
   ]
  },
  {
   "cell_type": "code",
   "execution_count": 2,
   "id": "c6997fd3",
   "metadata": {},
   "outputs": [],
   "source": [
    "# Membership lists      (Boolean value)\n",
    "\n",
    "# in means true / false\n",
    "\n",
    "# not in means true/ false \n",
    " # used to check weather element is present in list or not"
   ]
  },
  {
   "cell_type": "code",
   "execution_count": 3,
   "id": "8918b722",
   "metadata": {},
   "outputs": [
    {
     "data": {
      "text/plain": [
       "['Chemistry', ' bio', [1994, 2000], 5, 8]"
      ]
     },
     "execution_count": 3,
     "metadata": {},
     "output_type": "execute_result"
    }
   ],
   "source": [
    "#List concatenation\n",
    "\n",
    "# it merges two lists using \"+\" operator\n",
    "\n",
    "L = [\"Chemistry\", \" bio\", [1994,2000]]\n",
    "new_l = L + [5,8]\n",
    "\n",
    "new_l"
   ]
  },
  {
   "cell_type": "code",
   "execution_count": 5,
   "id": "9ff95884",
   "metadata": {},
   "outputs": [
    {
     "data": {
      "text/plain": [
       "['Chemistry', 'phy', [1994, 2000]]"
      ]
     },
     "execution_count": 5,
     "metadata": {},
     "output_type": "execute_result"
    }
   ],
   "source": [
    "# if we want to replace bio with phy\n",
    "L[1] = \"phy\"\n",
    "\n",
    "L"
   ]
  },
  {
   "cell_type": "code",
   "execution_count": 24,
   "id": "1c5dae92",
   "metadata": {},
   "outputs": [
    {
     "data": {
      "text/plain": [
       "['Chemistry', 'Biology', [1989, 2004], ('Oreily', 'Pearson'), 5, 8]"
      ]
     },
     "execution_count": 24,
     "metadata": {},
     "output_type": "execute_result"
    }
   ],
   "source": [
    "# now comes extend and append. # we will understand append and extend from the following exapmle\n",
    "L = [\"Chemistry\", \"Biology\", [1989, 2004], (\"Oreily\", \"Pearson\")]\n",
    "L.extend([5,8])\n",
    "L"
   ]
  },
  {
   "cell_type": "code",
   "execution_count": 1,
   "id": "229a0f6e",
   "metadata": {},
   "outputs": [
    {
     "data": {
      "text/plain": [
       "['Chemistry', 'Biology', [1989, 2004], ('Oreily', 'Pearson'), [5, 8]]"
      ]
     },
     "execution_count": 1,
     "metadata": {},
     "output_type": "execute_result"
    }
   ],
   "source": [
    "L = [\"Chemistry\", \"Biology\", [1989, 2004], (\"Oreily\", \"Pearson\")]\n",
    "L.append([5,8])\n",
    "L"
   ]
  },
  {
   "cell_type": "code",
   "execution_count": 6,
   "id": "c6a0728e",
   "metadata": {},
   "outputs": [
    {
     "name": "stdout",
     "output_type": "stream",
     "text": [
      "['Abhinav', 'Aditya', 'sharma']\n"
     ]
    }
   ],
   "source": [
    "# To change an item\n",
    "var = [\"Abhinav\", 'sharma', 'aditya', 'sharma']\n",
    "#var[1] = \"Aditya\" or we can also use \n",
    "var[1:3] = [\"Aditya\"]\n",
    "print(var)"
   ]
  },
  {
   "cell_type": "code",
   "execution_count": 14,
   "id": "df0e26e8",
   "metadata": {},
   "outputs": [
    {
     "name": "stdout",
     "output_type": "stream",
     "text": [
      "['Abhinav', 'blr', 'blr', 'blr', 'blr', 'blr', 'Aditya', 'blr', 'blr', 'sharma']\n"
     ]
    }
   ],
   "source": [
    "#To insert a new value\n",
    "var.insert(3,\"blr\")\n",
    "print(var)"
   ]
  },
  {
   "cell_type": "code",
   "execution_count": null,
   "id": "e8bfebdf",
   "metadata": {},
   "outputs": [],
   "source": []
  },
  {
   "cell_type": "code",
   "execution_count": null,
   "id": "6b5769e3",
   "metadata": {},
   "outputs": [],
   "source": []
  },
  {
   "cell_type": "markdown",
   "id": "0353e178",
   "metadata": {},
   "source": [
    "# Difference between Sorting and Sort\n"
   ]
  },
  {
   "cell_type": "code",
   "execution_count": null,
   "id": "ae7189a0",
   "metadata": {},
   "outputs": [],
   "source": []
  },
  {
   "cell_type": "code",
   "execution_count": 15,
   "id": "1984f99a",
   "metadata": {},
   "outputs": [
    {
     "name": "stdout",
     "output_type": "stream",
     "text": [
      "['Mango', 'Orange', 'Strawberry']\n",
      "None\n",
      "['Strawberry', 'Orange', 'Mango']\n"
     ]
    }
   ],
   "source": [
    "# SORT\n",
    "\n",
    "A = [\"Orange\", \"Strawberry\", \"Mango\"]\n",
    "B = A.sort()\n",
    "\n",
    "print(A)\n",
    "print(B)\n",
    "\n",
    "#To sort a list decendingly we will use\n",
    "A.sort(reverse = True)\n",
    "print(A)"
   ]
  },
  {
   "cell_type": "code",
   "execution_count": 27,
   "id": "ed69724b",
   "metadata": {},
   "outputs": [
    {
     "name": "stdout",
     "output_type": "stream",
     "text": [
      "['Orange', 'Strawberry', 'Mango']\n",
      "['Mango', 'Orange', 'Strawberry']\n"
     ]
    }
   ],
   "source": [
    "# SORTED\n",
    "\n",
    "A = [\"Orange\", \"Strawberry\", \"Mango\"]\n",
    "C = sorted(A)\n",
    "\n",
    "print(A)\n",
    "print(C)"
   ]
  },
  {
   "cell_type": "code",
   "execution_count": null,
   "id": "d6c36f4b",
   "metadata": {},
   "outputs": [],
   "source": []
  }
 ],
 "metadata": {
  "kernelspec": {
   "display_name": "Python 3 (ipykernel)",
   "language": "python",
   "name": "python3"
  },
  "language_info": {
   "codemirror_mode": {
    "name": "ipython",
    "version": 3
   },
   "file_extension": ".py",
   "mimetype": "text/x-python",
   "name": "python",
   "nbconvert_exporter": "python",
   "pygments_lexer": "ipython3",
   "version": "3.11.3"
  }
 },
 "nbformat": 4,
 "nbformat_minor": 5
}
