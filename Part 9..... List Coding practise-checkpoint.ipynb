{
 "cells": [
  {
   "cell_type": "markdown",
   "id": "74b6f6b5",
   "metadata": {},
   "source": [
    "# Smallest element "
   ]
  },
  {
   "cell_type": "code",
   "execution_count": null,
   "id": "f63d15f6",
   "metadata": {},
   "outputs": [],
   "source": [
    "# Method 1 where we are finding the smallest element \n",
    "import ast\n",
    "input_str = input()\n",
    "input_list = ast.literal_eval(input_str)\n",
    "#start writing your code here\n",
    "# Input list\n",
    "new_set = set(input_list)\n",
    "# Find the minimum element in the set\n",
    "smallest_element = min(new_set)\n",
    "# Print the smallest element\n",
    "print(smallest_element)\n",
    "\n",
    "\n",
    "# Method 2, here we will find the 2nd minimum element\n",
    "\n",
    "sec_smallest = sorted(input_list)\n",
    "print((sec_smallest)[0])\n"
   ]
  },
  {
   "cell_type": "markdown",
   "id": "725497f0",
   "metadata": {},
   "source": [
    "# Average of numbers"
   ]
  },
  {
   "cell_type": "code",
   "execution_count": 14,
   "id": "81cc702b",
   "metadata": {},
   "outputs": [
    {
     "name": "stdout",
     "output_type": "stream",
     "text": [
      "1,2,3\n",
      "2.0\n"
     ]
    }
   ],
   "source": [
    "# Read a comma-separated string of integers\n",
    "n = input()\n",
    "\n",
    "# Split the input string by commas and convert to integers\n",
    "integers = [float(num) for num in n.split(',')]\n",
    "\n",
    "# Calculate the average\n",
    "average = sum(integers) / len(integers)\n",
    "\n",
    "# Print the average\n",
    "print(average)\n"
   ]
  },
  {
   "cell_type": "markdown",
   "id": "d587d3a2",
   "metadata": {},
   "source": [
    "# Fenced Matrix\n"
   ]
  },
  {
   "cell_type": "code",
   "execution_count": null,
   "id": "0664ba91",
   "metadata": {},
   "outputs": [],
   "source": [
    "# Method 1\n",
    "m = int(input())\n",
    "n = int(input())\n",
    "def matrix(m,n):\n",
    "    matrix = []\n",
    "    for i in range(m):\n",
    "        row = []\n",
    "        for j in range(n):\n",
    "            if i == 0 or i == m-1 or j == 0 or j == n-1:\n",
    "                row.append(1)\n",
    "            else:\n",
    "                row.append(0)\n",
    "            matrix.append(row)\n",
    "        return matrix    \n",
    "new_matrix = matrix(m,n)\n",
    "for row in new_matrix:\n",
    "    print(row)\n",
    "\n",
    "    \n",
    "\n",
    "# Method 2\n",
    "final = [[0] * n for _ in range(m)]\n",
    "for i in range(m):\n",
    "    for j in range(n):\n",
    "        if i == 0 or j == 0 or i == m-1 or j == n-1:\n",
    "            final[i][j] = 1\n",
    "for row in final:\n",
    "    print(row)"
   ]
  },
  {
   "cell_type": "markdown",
   "id": "52b03f49",
   "metadata": {},
   "source": [
    "# Pascal's triangle"
   ]
  },
  {
   "cell_type": "code",
   "execution_count": 1,
   "id": "beb0d17b",
   "metadata": {},
   "outputs": [
    {
     "name": "stdout",
     "output_type": "stream",
     "text": [
      "4\n",
      "[1, 4, 6, 4, 1]\n"
     ]
    }
   ],
   "source": [
    "n = int(input())\n",
    "def generate_pascal(n):\n",
    "    if n == 0:\n",
    "        return [1]\n",
    "    prev_row = generate_pascal(n - 1)\n",
    "    current_row = [1]\n",
    "    for i in range(1, n):\n",
    "        current_row.append(prev_row[i - 1] + prev_row[i])\n",
    "    current_row.append(1)\n",
    "    return current_row\n",
    "nth_row = generate_pascal(n)\n",
    "print(nth_row)\n"
   ]
  },
  {
   "cell_type": "markdown",
   "id": "3d61511b",
   "metadata": {},
   "source": [
    "# Above average"
   ]
  },
  {
   "cell_type": "code",
   "execution_count": 12,
   "id": "97a31b43",
   "metadata": {},
   "outputs": [
    {
     "name": "stdout",
     "output_type": "stream",
     "text": [
      "3\n",
      "4\n",
      "True\n"
     ]
    }
   ],
   "source": [
    "list_of_number = input().split()\n",
    "list_of_number = [int(num) for num in list_of_number]\n",
    "number = int(input())\n",
    "\n",
    "def is_above_average(numbers, number_to_check):\n",
    "    average = sum(numbers)/ len(numbers)\n",
    "    return number_to_check > average\n",
    "result = is_above_average(list_of_number,number)\n",
    "print(result)"
   ]
  },
  {
   "cell_type": "markdown",
   "id": "0613c137",
   "metadata": {},
   "source": [
    "# Break the List (asked in Data Science Interview)"
   ]
  },
  {
   "cell_type": "code",
   "execution_count": null,
   "id": "21b345a5",
   "metadata": {},
   "outputs": [],
   "source": []
  },
  {
   "cell_type": "markdown",
   "id": "6c4b8b03",
   "metadata": {},
   "source": [
    "# Second Maximum number in the list\n"
   ]
  },
  {
   "cell_type": "code",
   "execution_count": 20,
   "id": "6bceeceb",
   "metadata": {},
   "outputs": [
    {
     "name": "stdout",
     "output_type": "stream",
     "text": [
      "[1,2,3,4]\n"
     ]
    },
    {
     "ename": "ValueError",
     "evalue": "invalid literal for int() with base 10: '[1,2,3,4]'",
     "output_type": "error",
     "traceback": [
      "\u001b[1;31m---------------------------------------------------------------------------\u001b[0m",
      "\u001b[1;31mValueError\u001b[0m                                Traceback (most recent call last)",
      "Cell \u001b[1;32mIn[20], line 2\u001b[0m\n\u001b[0;32m      1\u001b[0m n \u001b[38;5;241m=\u001b[39m \u001b[38;5;28minput\u001b[39m()\n\u001b[1;32m----> 2\u001b[0m n \u001b[38;5;241m=\u001b[39m [\u001b[38;5;28mint\u001b[39m(x) \u001b[38;5;28;01mfor\u001b[39;00m x \u001b[38;5;129;01min\u001b[39;00m n\u001b[38;5;241m.\u001b[39msplit()]\n\u001b[0;32m      3\u001b[0m \u001b[38;5;28;01mif\u001b[39;00m \u001b[38;5;28mlen\u001b[39m(n)\u001b[38;5;241m<\u001b[39m\u001b[38;5;241m=\u001b[39m\u001b[38;5;241m1\u001b[39m:\n\u001b[0;32m      4\u001b[0m     \u001b[38;5;28mprint\u001b[39m(\u001b[38;5;124m\"\u001b[39m\u001b[38;5;124mNot present\u001b[39m\u001b[38;5;124m\"\u001b[39m)\n",
      "Cell \u001b[1;32mIn[20], line 2\u001b[0m, in \u001b[0;36m<listcomp>\u001b[1;34m(.0)\u001b[0m\n\u001b[0;32m      1\u001b[0m n \u001b[38;5;241m=\u001b[39m \u001b[38;5;28minput\u001b[39m()\n\u001b[1;32m----> 2\u001b[0m n \u001b[38;5;241m=\u001b[39m [\u001b[38;5;28mint\u001b[39m(x) \u001b[38;5;28;01mfor\u001b[39;00m x \u001b[38;5;129;01min\u001b[39;00m n\u001b[38;5;241m.\u001b[39msplit()]\n\u001b[0;32m      3\u001b[0m \u001b[38;5;28;01mif\u001b[39;00m \u001b[38;5;28mlen\u001b[39m(n)\u001b[38;5;241m<\u001b[39m\u001b[38;5;241m=\u001b[39m\u001b[38;5;241m1\u001b[39m:\n\u001b[0;32m      4\u001b[0m     \u001b[38;5;28mprint\u001b[39m(\u001b[38;5;124m\"\u001b[39m\u001b[38;5;124mNot present\u001b[39m\u001b[38;5;124m\"\u001b[39m)\n",
      "\u001b[1;31mValueError\u001b[0m: invalid literal for int() with base 10: '[1,2,3,4]'"
     ]
    }
   ],
   "source": [
    "n = input()\n",
    "n = [int(x) for x in n.split()]\n",
    "if len(n)<=1:\n",
    "    print(\"Not present\")\n",
    "else:\n",
    "    unique_num= list(set(n))\n",
    "    unique_num.sort(reverse=True)\n",
    "    if len(unique_num>=2):\n",
    "        second_largest = unique_num[1]\n",
    "        print(second_largest)\n",
    "    else:\n",
    "        print(\"Not Present\")"
   ]
  },
  {
   "cell_type": "code",
   "execution_count": null,
   "id": "8ef4b4ff",
   "metadata": {},
   "outputs": [],
   "source": []
  }
 ],
 "metadata": {
  "kernelspec": {
   "display_name": "Python 3 (ipykernel)",
   "language": "python",
   "name": "python3"
  },
  "language_info": {
   "codemirror_mode": {
    "name": "ipython",
    "version": 3
   },
   "file_extension": ".py",
   "mimetype": "text/x-python",
   "name": "python",
   "nbconvert_exporter": "python",
   "pygments_lexer": "ipython3",
   "version": "3.11.3"
  }
 },
 "nbformat": 4,
 "nbformat_minor": 5
}
