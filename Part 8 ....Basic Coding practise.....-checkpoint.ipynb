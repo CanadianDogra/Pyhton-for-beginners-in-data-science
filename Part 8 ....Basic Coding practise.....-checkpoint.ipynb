{
 "cells": [
  {
   "cell_type": "markdown",
   "id": "78a6f2dc",
   "metadata": {},
   "source": [
    "# Swapping"
   ]
  },
  {
   "cell_type": "code",
   "execution_count": null,
   "id": "fffe43a9",
   "metadata": {},
   "outputs": [],
   "source": [
    "x = 1\n",
    "y = 2\n",
    "#method 1 (without using third variable)\n",
    "x,y = y,x\n",
    "print(x,y)\n",
    "\n",
    "#method2 (using third variable)\n",
    "z = x\n",
    "z = y\n",
    "y = z\n",
    "print(x,y)\n",
    "\n",
    "#method 3 \n",
    "x = x+y\n",
    "y = x-y\n",
    "x = x-y\n",
    "print(x,y)"
   ]
  },
  {
   "cell_type": "markdown",
   "id": "8f1a81e9",
   "metadata": {},
   "source": [
    "# Suppose we have to find wheather the given input is even or odd"
   ]
  },
  {
   "cell_type": "code",
   "execution_count": null,
   "id": "170716d8",
   "metadata": {},
   "outputs": [],
   "source": [
    "#method 1 (using def function)\n",
    "x = int(input())\n",
    "\n",
    "def even_or_not(x):\n",
    "    if x%2== 0:\n",
    "        print(\"Even\")\n",
    "    else:\n",
    "        print(\"Odd\")\n",
    "even_or_not(x)\n",
    "\n",
    "#method 2 (if else)\n",
    "if x %2== 0:\n",
    "    print(\"Even\")\n",
    "else:\n",
    "    print(\"Odd\")"
   ]
  },
  {
   "cell_type": "markdown",
   "id": "f427423e",
   "metadata": {},
   "source": [
    "# Factorial"
   ]
  },
  {
   "cell_type": "code",
   "execution_count": null,
   "id": "e07f54b2",
   "metadata": {},
   "outputs": [],
   "source": [
    "n = int(input())\n",
    "#method 1\n",
    "def factorial(n):\n",
    "    if n < 0:\n",
    "        return -1\n",
    "    elif n== 0:\n",
    "        return 1\n",
    "    else: \n",
    "        return n *factorial(n-1)\n",
    "k = factorial(n)\n",
    "print(k)\n",
    "\n",
    "#method 2 (using range function)\n",
    "def factorial(n):\n",
    "    if n < 0:\n",
    "        return -1\n",
    "    elif n== 0:\n",
    "        return 1\n",
    "    else:\n",
    "        f = 1\n",
    "        for i in range(1,n+1):\n",
    "            f *= i\n",
    "    return f\n",
    "x = factorial(n)\n",
    "print(x)"
   ]
  },
  {
   "cell_type": "markdown",
   "id": "c67bd466",
   "metadata": {},
   "source": [
    "# Reverse the digits"
   ]
  },
  {
   "cell_type": "code",
   "execution_count": null,
   "id": "6ed855c0",
   "metadata": {},
   "outputs": [],
   "source": [
    "#method 1 (using while loop)\n",
    "n = int(input())\n",
    "r = 0\n",
    "while(n>0):\n",
    "    r = r*10 + n%10\n",
    "    n = n//10\n",
    "print(r)\n"
   ]
  },
  {
   "cell_type": "markdown",
   "id": "f3f0babd",
   "metadata": {},
   "source": [
    "# Patterns"
   ]
  },
  {
   "cell_type": "code",
   "execution_count": 4,
   "id": "6a55118a",
   "metadata": {},
   "outputs": [
    {
     "name": "stdout",
     "output_type": "stream",
     "text": [
      "4\n",
      "* \n",
      "* * \n",
      "* * * \n",
      "* * * * \n",
      "1 \n",
      "1 2 \n",
      "1 2 3 \n",
      "1 2 3 4 \n",
      "   *\n",
      "  * *\n",
      " * * *\n",
      "* * * *\n"
     ]
    }
   ],
   "source": [
    "# Pattern 1 (star pyramid)\n",
    "n = int(input())\n",
    "for i in range(1,n+1):\n",
    "    for j in range(1,i+1):\n",
    "        print(\"*\", end =\" \")\n",
    "    print()\n",
    "#Pattern 2 (numerical pyramid)\n",
    "for i in range(1,n+1):\n",
    "    for j in range(1,i+1):\n",
    "        print(\"%d\"%j, end = \" \")\n",
    "    print()\n",
    "\n",
    "# Pattern 3\n",
    "#n = int(input())\n",
    "for i in range(1,n+1):\n",
    "  for j in range(n-i):\n",
    "    print(\" \", end = \"\")\n",
    "  for k in range(i-1):\n",
    "    print(\"* \", end = \"\")\n",
    "  print(\"*\")\n"
   ]
  },
  {
   "cell_type": "markdown",
   "id": "c530851d",
   "metadata": {},
   "source": [
    "# Armstrong Number\n",
    "\n",
    "##"
   ]
  },
  {
   "cell_type": "code",
   "execution_count": 1,
   "id": "5d5bdc12",
   "metadata": {},
   "outputs": [
    {
     "name": "stdout",
     "output_type": "stream",
     "text": [
      "152\n",
      "False\n"
     ]
    }
   ],
   "source": [
    "n=int(input())\n",
    "def is_armstrong_number(n):\n",
    "    if not (100 <= n <= 999):\n",
    "        return False\n",
    "    a = n // 100\n",
    "    b = (n // 10) % 10\n",
    "    c = n % 10\n",
    "\n",
    "    # Check if it's an Armstrong number\n",
    "    return n == a**3 + b**3 + c**3\n",
    "result = is_armstrong_number(n)\n",
    "print(result)"
   ]
  },
  {
   "cell_type": "markdown",
   "id": "a9993370",
   "metadata": {},
   "source": [
    "# Fibonacci Series"
   ]
  },
  {
   "cell_type": "code",
   "execution_count": 4,
   "id": "0bc2231b",
   "metadata": {},
   "outputs": [
    {
     "name": "stdout",
     "output_type": "stream",
     "text": [
      "5\n",
      "0\n",
      "1\n",
      "1\n",
      "2\n",
      "3\n"
     ]
    }
   ],
   "source": [
    "n=int(input())\n",
    "#write your code here\n",
    "a = 0    \n",
    "b = 1    \n",
    "for i in range(0,n):  \n",
    "    print(a) \n",
    "    c = a+b                 \n",
    "    a =b\n",
    "    b = c "
   ]
  },
  {
   "cell_type": "markdown",
   "id": "64decf25",
   "metadata": {},
   "source": [
    "# Sum of Primes"
   ]
  },
  {
   "cell_type": "code",
   "execution_count": 5,
   "id": "9357dd8b",
   "metadata": {},
   "outputs": [
    {
     "name": "stdout",
     "output_type": "stream",
     "text": [
      "5\n",
      "10\n"
     ]
    }
   ],
   "source": [
    "n=int(input())#find the sum of primes from 2 to n \n",
    "sum = 0\n",
    "for num in range(2, n + 1):\n",
    "    for i in range(2, num):\n",
    "        if (int(num % i) == 0):\n",
    "            break;\n",
    "    #If the number is prime then add it.\n",
    "    else:\n",
    "        sum += num\n",
    "print(sum)\n"
   ]
  },
  {
   "cell_type": "code",
   "execution_count": null,
   "id": "917f48bf",
   "metadata": {},
   "outputs": [],
   "source": []
  }
 ],
 "metadata": {
  "kernelspec": {
   "display_name": "Python 3 (ipykernel)",
   "language": "python",
   "name": "python3"
  },
  "language_info": {
   "codemirror_mode": {
    "name": "ipython",
    "version": 3
   },
   "file_extension": ".py",
   "mimetype": "text/x-python",
   "name": "python",
   "nbconvert_exporter": "python",
   "pygments_lexer": "ipython3",
   "version": "3.11.3"
  }
 },
 "nbformat": 4,
 "nbformat_minor": 5
}
