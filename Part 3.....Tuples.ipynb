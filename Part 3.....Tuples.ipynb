{
 "cells": [
  {
   "cell_type": "markdown",
   "id": "5c702db9",
   "metadata": {},
   "source": [
    "# TUPLES"
   ]
  },
  {
   "cell_type": "code",
   "execution_count": 17,
   "id": "0ba832a5",
   "metadata": {},
   "outputs": [
    {
     "name": "stdout",
     "output_type": "stream",
     "text": [
      "(1, 2, 3, 4)\n",
      "(1,)\n",
      "(1,)\n",
      "1\n",
      "<class 'int'>\n",
      "<class 'tuple'>\n",
      "<class 'tuple'>\n",
      "<class 'tuple'>\n"
     ]
    }
   ],
   "source": [
    "# Tupes are immutable means no new value can be assigned to them once they are created\n",
    "# They are written as comma-seprated(,) elements with parenthesis()\n",
    "# for eg x = (\"a\", 2 ,'bro')\n",
    "x= 1,2,3,4\n",
    "print(x) #since they are seprated with comma, so they are tuples\n",
    "\n",
    "y = (1,)\n",
    "print(y) # here 1 is also a tuple because it has comma with parenthesis\n",
    "\n",
    "z = 1,\n",
    "print(z) #look here 1 is also a tuple because it has a comma\n",
    "\n",
    "a = 1 or (1)\n",
    "print(a) # here it is not a tuple though it gave us the output but if we look into the class of x, y , z & a. a is not tuple\n",
    "\n",
    "print(type(a))\n",
    "print(type(x))\n",
    "print(type(y))\n",
    "print(type(z)) # do i need to explain?"
   ]
  },
  {
   "cell_type": "code",
   "execution_count": 18,
   "id": "976603da",
   "metadata": {},
   "outputs": [],
   "source": [
    "# Indexing & slicing is same as strings "
   ]
  },
  {
   "cell_type": "markdown",
   "id": "45f1298a",
   "metadata": {},
   "source": [
    "# Concatenating Tuples"
   ]
  },
  {
   "cell_type": "code",
   "execution_count": 26,
   "id": "2232832c",
   "metadata": {},
   "outputs": [
    {
     "data": {
      "text/plain": [
       "'Nomaskor, brothor kaise ho, bhai'"
      ]
     },
     "execution_count": 26,
     "metadata": {},
     "output_type": "execute_result"
    }
   ],
   "source": [
    "# adding two tuples\n",
    "\n",
    "tup1 = (\"Nomaskor, brothor \")\n",
    "tup2 = (\"kaise ho, bhai\")\n",
    "\n",
    "\n",
    "tup3 = tup1 + tup2\n",
    "tup3"
   ]
  },
  {
   "cell_type": "markdown",
   "id": "c01f44d6",
   "metadata": {},
   "source": [
    "# sum() , min(), max()"
   ]
  },
  {
   "cell_type": "code",
   "execution_count": 28,
   "id": "0b5fff7d",
   "metadata": {},
   "outputs": [
    {
     "name": "stdout",
     "output_type": "stream",
     "text": [
      "21\n",
      "2\n",
      "7\n"
     ]
    }
   ],
   "source": [
    "t = (2, 4, 3, 5, 7)\n",
    "print(sum(t))\n",
    "print(min(t))\n",
    "print(max(t))"
   ]
  },
  {
   "cell_type": "code",
   "execution_count": 34,
   "id": "f55ee77b",
   "metadata": {},
   "outputs": [
    {
     "name": "stdout",
     "output_type": "stream",
     "text": [
      "['bhai', 'hi', 'hi', 'kaise']\n",
      "[1, 2, 2, 3, 4, 5, 6, 7]\n"
     ]
    }
   ],
   "source": [
    "# SORTING A TUPLE\n",
    "\n",
    "t = ('hi', 'bhai', 'kaise', 'hi')\n",
    "z= (1,2,4,3,5,6,7,2)\n",
    "\n",
    "x = sorted(t)\n",
    "y = sorted(z)\n",
    "\n",
    "print(x)\n",
    "print(y)"
   ]
  },
  {
   "cell_type": "code",
   "execution_count": 36,
   "id": "73d05b07",
   "metadata": {},
   "outputs": [
    {
     "name": "stdout",
     "output_type": "stream",
     "text": [
      "('apple', 'banana', 'cherry', 'orange')\n"
     ]
    }
   ],
   "source": [
    "# if we have to add an item into the tuple, since tuple is immutable , we cannot add directly to tuple so first we weill \n",
    "# convert it into list using list(X) then we will perform our action then change it back to tuple\n",
    "thistuple = (\"apple\", \"banana\", \"cherry\")\n",
    "y = list(thistuple)\n",
    "y.append(\"orange\")\n",
    "thistuple = tuple(y)\n",
    "\n",
    "print(thistuple)"
   ]
  },
  {
   "cell_type": "code",
   "execution_count": 37,
   "id": "46b97413",
   "metadata": {},
   "outputs": [
    {
     "name": "stdout",
     "output_type": "stream",
     "text": [
      "1\n"
     ]
    }
   ],
   "source": [
    "# PACKING AND UNPACKING\n",
    "\n",
    "t = (1,2,3,4)     # Packing \n",
    "(a,b,c,d) = t     # Unpacking \n",
    "print (a)\n"
   ]
  },
  {
   "cell_type": "code",
   "execution_count": null,
   "id": "45e02a17",
   "metadata": {},
   "outputs": [],
   "source": []
  }
 ],
 "metadata": {
  "kernelspec": {
   "display_name": "Python 3 (ipykernel)",
   "language": "python",
   "name": "python3"
  },
  "language_info": {
   "codemirror_mode": {
    "name": "ipython",
    "version": 3
   },
   "file_extension": ".py",
   "mimetype": "text/x-python",
   "name": "python",
   "nbconvert_exporter": "python",
   "pygments_lexer": "ipython3",
   "version": "3.11.3"
  }
 },
 "nbformat": 4,
 "nbformat_minor": 5
}
