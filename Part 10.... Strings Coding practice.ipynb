{
 "cells": [
  {
   "cell_type": "markdown",
   "id": "d5f2a499",
   "metadata": {},
   "source": [
    "# Palindrome String\n"
   ]
  },
  {
   "cell_type": "code",
   "execution_count": 2,
   "id": "0d43bae2",
   "metadata": {},
   "outputs": [
    {
     "name": "stdout",
     "output_type": "stream",
     "text": [
      "Rebecca\n",
      "O\n"
     ]
    }
   ],
   "source": [
    "s = input()\n",
    "def is_palindrome(s):\n",
    "    clean_string = s.replace(\" \",\"\").lower()\n",
    "    return clean_string == clean_string[::-1]\n",
    "if is_palindrome(s):\n",
    "    print(\"1\")\n",
    "else:\n",
    "    print(\"O\")"
   ]
  },
  {
   "cell_type": "markdown",
   "id": "92686788",
   "metadata": {},
   "source": [
    "# Reversing words"
   ]
  },
  {
   "cell_type": "code",
   "execution_count": 2,
   "id": "a4f3ea26",
   "metadata": {},
   "outputs": [
    {
     "name": "stdout",
     "output_type": "stream",
     "text": [
      "I love coding in python\n",
      "python in coding love I\n",
      "I evol gnidoc ni nohtyp\n"
     ]
    }
   ],
   "source": [
    "#Method 1\n",
    "#input : I love coding in python ,      Outout : python in coding love I\n",
    "#here we are getting reverse of the sentence\n",
    "sentence = input()\n",
    "words = sentence.split()\n",
    "reversed_sentence = ' '.join(reversed(words))\n",
    "print(reversed_sentence)\n",
    "\n",
    "#Method 2\n",
    "# input : I love coding in python,      output : I evol gnidoc ni nohtyp\n",
    "#here we are getting reverse of each word\n",
    "words = sentence.split()\n",
    "reversen_words = ' '.join(words[::-1]for words in words)\n",
    "print(reversen_words)"
   ]
  },
  {
   "cell_type": "markdown",
   "id": "3c93563d",
   "metadata": {},
   "source": [
    "# No Spaces"
   ]
  },
  {
   "cell_type": "markdown",
   "id": "5ee3f79e",
   "metadata": {},
   "source": [
    "### Data Cleaning : it is a process of fixing or removing incorrect , corrupted, incorrectly formattedd, duplicate or incomplete data with a dataset."
   ]
  },
  {
   "cell_type": "code",
   "execution_count": 3,
   "id": "1659b372",
   "metadata": {},
   "outputs": [
    {
     "name": "stdout",
     "output_type": "stream",
     "text": [
      "I evol gnidoc ni nohtyp\n",
      "I_Evol_Gnidoc_Ni_Nohtyp\n"
     ]
    }
   ],
   "source": [
    "# suppose we are given a sentence and we have to replace all the spaces between them with '_' and we have to capialize the\n",
    "# first character of each word\n",
    "s = input()\n",
    "words = s.split()\n",
    "formatted_words = [words.capitalize() for words in words]\n",
    "case = \"_\".join(formatted_words)\n",
    "print(case)"
   ]
  },
  {
   "cell_type": "markdown",
   "id": "c01ccfc9",
   "metadata": {},
   "source": [
    "# Shifting vowels"
   ]
  },
  {
   "cell_type": "code",
   "execution_count": 7,
   "id": "fb1c103c",
   "metadata": {},
   "outputs": [
    {
     "name": "stdout",
     "output_type": "stream",
     "text": [
      "I evol gnidoc ni nohtyp\n",
      "Ieoioio vl gndc n nhtyp\n"
     ]
    }
   ],
   "source": [
    "# Suppose we have to shift vowels and consonents, like first we will place vowels and then consonents\n",
    "s = input()\n",
    "def shiftvowels(s):\n",
    "    vowel = \"AIEOUaieou\"\n",
    "    vowel_part= \"\"\n",
    "    non_vowel_part = \"\"\n",
    "    for char in s:\n",
    "        if char in vowel:\n",
    "            vowel_part += char\n",
    "        else:\n",
    "            non_vowel_part +=char\n",
    "    shifted_string = vowel_part + non_vowel_part\n",
    "    return shifted_string\n",
    "shifted_result = shiftvowels(s)\n",
    "print(shifted_result)"
   ]
  },
  {
   "cell_type": "markdown",
   "id": "ffbcba80",
   "metadata": {},
   "source": [
    "# Common Prefix"
   ]
  },
  {
   "cell_type": "code",
   "execution_count": 15,
   "id": "b668f46e",
   "metadata": {},
   "outputs": [
    {
     "name": "stdout",
     "output_type": "stream",
     "text": [
      "dada\n",
      "dad\n",
      " dad\n",
      "DAYTA\n",
      "DAt\n",
      "DAt\n"
     ]
    }
   ],
   "source": [
    "#suppose we are given strings and we have to find the common prefix \n",
    "string1 = input()\n",
    "string2 = input()\n",
    "string1 = string1.lower()\n",
    "string2 = string2.lower()\n",
    "common_prefix = \" \"\n",
    "min_length = min(len(string1),len(string2))\n",
    "for i in range(min_length):\n",
    "    if string1[i] == string2[i]:\n",
    "        common_prefix +=string1[i]\n",
    "    else:\n",
    "        break\n",
    "print(common_prefix)\n",
    "\n",
    "\n",
    "# Method 2 \n",
    "# suppose we have a list of strings then\n",
    "s = input()  # This line is fine, it takes an input string.\n",
    "input_list = input().split()  # Split the input into a list of strings.\n",
    "common_prefix = \"\"\n",
    "min_length = min(len(s) for s in input_list)\n",
    "for i in range(min_length):\n",
    "    if all(s[i] == input_list[0][i] for s in input_list):\n",
    "        common_prefix += input_list[0][i]\n",
    "    else:\n",
    "        break\n",
    "print(common_prefix)"
   ]
  },
  {
   "cell_type": "markdown",
   "id": "47e802df",
   "metadata": {},
   "source": [
    "# Anagrams"
   ]
  },
  {
   "cell_type": "code",
   "execution_count": 17,
   "id": "81b82502",
   "metadata": {},
   "outputs": [
    {
     "name": "stdout",
     "output_type": "stream",
     "text": [
      "night\n",
      "thing\n",
      "True\n"
     ]
    }
   ],
   "source": [
    "string1 = input()\n",
    "string2 = input()\n",
    "if len(string1) != len(string2):\n",
    "    print(\"false\")\n",
    "else:\n",
    "    string1_sort = ''.join(sorted(string1))\n",
    "    string2_sort = ''.join(sorted(string2))\n",
    "    if string1_sort == string2_sort:\n",
    "        print(\"True\")\n",
    "    else:\n",
    "        print(\"false\")"
   ]
  },
  {
   "cell_type": "markdown",
   "id": "12daad1b",
   "metadata": {},
   "source": [
    "# To find an extra character"
   ]
  },
  {
   "cell_type": "code",
   "execution_count": 1,
   "id": "e3a15aa4",
   "metadata": {},
   "outputs": [
    {
     "name": "stdout",
     "output_type": "stream",
     "text": [
      "abcd\n",
      "cedab\n",
      "e\n"
     ]
    }
   ],
   "source": [
    "x = input()\n",
    "y = input()\n",
    "s1 = \"\".join(sorted(x))\n",
    "s2 = \"\".join(sorted(y))\n",
    "if len(s1) > len(s2):\n",
    "    string_with_max_len = s1\n",
    "    string_with_min_len = s2\n",
    "else:\n",
    "    string_with_max_len = s2\n",
    "    string_with_min_len = s1\n",
    "flag = 0\n",
    "last_index = 0\n",
    "for i in range(len(string_with_min_len)):\n",
    "    if string_with_max_len[i] != string_with_min_len[i]:\n",
    "        print(string_with_max_len[i])\n",
    "        flag = 1\n",
    "        break\n",
    "    else:\n",
    "        last_index = i+1\n",
    "if flag == 0:\n",
    "    print(string_with_max_len[last_index])"
   ]
  },
  {
   "cell_type": "markdown",
   "id": "db61bba6",
   "metadata": {},
   "source": [
    "# Cleaned string\n"
   ]
  },
  {
   "cell_type": "markdown",
   "id": "62d8fe21",
   "metadata": {},
   "source": [
    "### Like we know while extracting data, numeric values often comes with string format, so we use "
   ]
  },
  {
   "cell_type": "code",
   "execution_count": 5,
   "id": "53e3f97d",
   "metadata": {},
   "outputs": [
    {
     "name": "stdout",
     "output_type": "stream",
     "text": [
      "4,68,72,352 \n",
      "46872352 \n"
     ]
    }
   ],
   "source": [
    "x = input()\n",
    "cleaned_string = x.replace(\" \",\" \").replace(\",\",\"\")\n",
    "print(cleaned_string)"
   ]
  },
  {
   "cell_type": "markdown",
   "id": "8cd35c00",
   "metadata": {},
   "source": [
    "# n+nn+nnn+..... n(times)"
   ]
  },
  {
   "cell_type": "code",
   "execution_count": 11,
   "id": "97ab720a",
   "metadata": {},
   "outputs": [
    {
     "name": "stdout",
     "output_type": "stream",
     "text": [
      "10\n",
      "10203040506070809100\n"
     ]
    }
   ],
   "source": [
    "n=int(input())\n",
    "#Method 1\n",
    "answer=0\n",
    "for i in range(1,n+1):\n",
    "    num=''\n",
    "    for j in range(i):\n",
    "        num=num+str(n)\n",
    "    num=int(num)\n",
    "    answer=answer+num\n",
    "print(answer)\n"
   ]
  },
  {
   "cell_type": "code",
   "execution_count": null,
   "id": "b1eaf348",
   "metadata": {},
   "outputs": [],
   "source": []
  }
 ],
 "metadata": {
  "kernelspec": {
   "display_name": "Python 3 (ipykernel)",
   "language": "python",
   "name": "python3"
  },
  "language_info": {
   "codemirror_mode": {
    "name": "ipython",
    "version": 3
   },
   "file_extension": ".py",
   "mimetype": "text/x-python",
   "name": "python",
   "nbconvert_exporter": "python",
   "pygments_lexer": "ipython3",
   "version": "3.11.3"
  }
 },
 "nbformat": 4,
 "nbformat_minor": 5
}
