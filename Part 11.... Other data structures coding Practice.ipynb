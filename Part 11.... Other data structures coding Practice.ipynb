{
 "cells": [
  {
   "cell_type": "code",
   "execution_count": 1,
   "id": "f85cf5c4",
   "metadata": {},
   "outputs": [],
   "source": [
    "# Suppose we have to find intersection of two or more than two sets, we will use\n",
    "# A.intersection(B,....)\n",
    "#or we can use set.intersection(A,B,....)\n",
    "\n",
    "# since we know sets are immutable, elements of sets are immutable"
   ]
  },
  {
   "cell_type": "markdown",
   "id": "c131b3df",
   "metadata": {},
   "source": [
    "# Removing duplicates"
   ]
  },
  {
   "cell_type": "code",
   "execution_count": 3,
   "id": "2eded459",
   "metadata": {},
   "outputs": [
    {
     "name": "stdout",
     "output_type": "stream",
     "text": [
      "1,2,3,3,\n",
      "['1', ',', '2', '3']\n"
     ]
    }
   ],
   "source": [
    "s = input()\n",
    "d = {}\n",
    "for item in s:\n",
    "    if item not in d:\n",
    "        d[item] = 1\n",
    "print(list(d.keys()))"
   ]
  },
  {
   "cell_type": "markdown",
   "id": "27037912",
   "metadata": {},
   "source": [
    "# Dictionary & Lists"
   ]
  },
  {
   "cell_type": "code",
   "execution_count": 4,
   "id": "4409daf4",
   "metadata": {},
   "outputs": [],
   "source": [
    "#You will be converting a dictionary, of string(keys) and a list of string (values), to a list of strings. \n",
    "#input: {‘Mobile’: [‘Redmi’, ‘Samsung’, ‘Realme’], ‘Laptop’: [‘Dell’, ‘HP’], ‘TV’: [‘Videocon’, ‘Sony’] }\n",
    "# output: [‘Mobile_Redmi’, ‘Mobile_Samsung’, ‘Mobile_Realme’, ‘Laptop_Dell’, ‘Laptop_HP’, ‘TV_Videocon’, ‘TV_Sony’]"
   ]
  },
  {
   "cell_type": "code",
   "execution_count": 6,
   "id": "37f89dc3",
   "metadata": {},
   "outputs": [
    {
     "name": "stdout",
     "output_type": "stream",
     "text": [
      "{ 'Pen': ['Gel', 'Ink', 'ball'],  'Mobile': ['Android', 'apple'] }\n"
     ]
    },
    {
     "ename": "AttributeError",
     "evalue": "'str' object has no attribute 'items'",
     "output_type": "error",
     "traceback": [
      "\u001b[1;31m---------------------------------------------------------------------------\u001b[0m",
      "\u001b[1;31mAttributeError\u001b[0m                            Traceback (most recent call last)",
      "Cell \u001b[1;32mIn[6], line 8\u001b[0m\n\u001b[0;32m      6\u001b[0m             result\u001b[38;5;241m.\u001b[39mappend(\u001b[38;5;124mf\u001b[39m\u001b[38;5;124m\"\u001b[39m\u001b[38;5;132;01m{\u001b[39;00mkey\u001b[38;5;132;01m}\u001b[39;00m\u001b[38;5;124m_\u001b[39m\u001b[38;5;132;01m{\u001b[39;00mvalue\u001b[38;5;132;01m}\u001b[39;00m\u001b[38;5;124m\"\u001b[39m)\n\u001b[0;32m      7\u001b[0m     \u001b[38;5;28;01mreturn\u001b[39;00m result\n\u001b[1;32m----> 8\u001b[0m \u001b[38;5;28mprint\u001b[39m(convert_dictionary_to_list(input_dict))\n",
      "Cell \u001b[1;32mIn[6], line 4\u001b[0m, in \u001b[0;36mconvert_dictionary_to_list\u001b[1;34m(input_dict)\u001b[0m\n\u001b[0;32m      2\u001b[0m \u001b[38;5;28;01mdef\u001b[39;00m \u001b[38;5;21mconvert_dictionary_to_list\u001b[39m(input_dict):\n\u001b[0;32m      3\u001b[0m     result \u001b[38;5;241m=\u001b[39m []\n\u001b[1;32m----> 4\u001b[0m     \u001b[38;5;28;01mfor\u001b[39;00m key, values \u001b[38;5;129;01min\u001b[39;00m input_dict\u001b[38;5;241m.\u001b[39mitems():\n\u001b[0;32m      5\u001b[0m         \u001b[38;5;28;01mfor\u001b[39;00m value \u001b[38;5;129;01min\u001b[39;00m values:\n\u001b[0;32m      6\u001b[0m             result\u001b[38;5;241m.\u001b[39mappend(\u001b[38;5;124mf\u001b[39m\u001b[38;5;124m\"\u001b[39m\u001b[38;5;132;01m{\u001b[39;00mkey\u001b[38;5;132;01m}\u001b[39;00m\u001b[38;5;124m_\u001b[39m\u001b[38;5;132;01m{\u001b[39;00mvalue\u001b[38;5;132;01m}\u001b[39;00m\u001b[38;5;124m\"\u001b[39m)\n",
      "\u001b[1;31mAttributeError\u001b[0m: 'str' object has no attribute 'items'"
     ]
    }
   ],
   "source": [
    "input_dict = input()\n",
    "def convert_dictionary_to_list(input_dict):\n",
    "    result = []\n",
    "    for key, values in input_dict.items():\n",
    "        for value in values:\n",
    "            result.append(f\"{key}_{value}\")\n",
    "    return result\n",
    "print(convert_dictionary_to_list(input_dict))"
   ]
  },
  {
   "cell_type": "markdown",
   "id": "4f0ea5da",
   "metadata": {},
   "source": [
    "# Balancing the brackets"
   ]
  },
  {
   "cell_type": "code",
   "execution_count": 1,
   "id": "cd7c11cd",
   "metadata": {},
   "outputs": [
    {
     "name": "stdout",
     "output_type": "stream",
     "text": [
      "(()))\n",
      "No\n"
     ]
    }
   ],
   "source": [
    "inp=input()\n",
    "stack =[]\n",
    "for i in inp:\n",
    "    if len(stack)== 0:\n",
    "        stack.append(i)\n",
    "    else:\n",
    "        if i ==')' and stack[-1]=='(':\n",
    "            stack.pop()\n",
    "        elif i ==']' and stack[-1] == '[':\n",
    "            stack.pop()\n",
    "        elif i == '}' and stack[-1] == '{':\n",
    "            stack.pop()\n",
    "        else:\n",
    "            stack.append(i)\n",
    "if stack:\n",
    "    print(\"No\")\n",
    "else:\n",
    "    print(\"Yes\")"
   ]
  },
  {
   "cell_type": "markdown",
   "id": "e6eec955",
   "metadata": {},
   "source": [
    "# Maximum Distance"
   ]
  },
  {
   "cell_type": "code",
   "execution_count": 3,
   "id": "c82f95f3",
   "metadata": {},
   "outputs": [
    {
     "name": "stdout",
     "output_type": "stream",
     "text": [
      "1,2,2,3,3,3,4,5,4,6\n",
      "2\n"
     ]
    }
   ],
   "source": [
    "# suppose we are given a list of repeated elements and we have to find the maximum distance between two same elements\n",
    "import ast\n",
    "input_list= ast.literal_eval(input())\n",
    "max_distance = 0\n",
    "element_indices = {}\n",
    "for i, num in enumerate(input_list):\n",
    "    if num in element_indices:\n",
    "        max_distance = max(max_distance, i - element_indices[num])\n",
    "    else:\n",
    "        element_indices[num] = i\n",
    "print(max_distance)"
   ]
  },
  {
   "cell_type": "markdown",
   "id": "07669a2b",
   "metadata": {},
   "source": [
    "# Vote for  food (asked in Data analyst interview)"
   ]
  },
  {
   "cell_type": "code",
   "execution_count": 5,
   "id": "3d9ed5f1",
   "metadata": {},
   "outputs": [
    {
     "ename": "SyntaxError",
     "evalue": "invalid syntax (<unknown>, line 0)",
     "output_type": "error",
     "traceback": [
      "Traceback \u001b[1;36m(most recent call last)\u001b[0m:\n",
      "\u001b[0m  File \u001b[0;32m~\\anaconda3\\Lib\\site-packages\\IPython\\core\\interactiveshell.py:3505\u001b[0m in \u001b[0;35mrun_code\u001b[0m\n    exec(code_obj, self.user_global_ns, self.user_ns)\u001b[0m\n",
      "\u001b[0m  Cell \u001b[0;32mIn[5], line 4\u001b[0m\n    votes = ast.literal_eval(input_str)\u001b[0m\n",
      "\u001b[0m  File \u001b[0;32m~\\anaconda3\\Lib\\ast.py:64\u001b[0m in \u001b[0;35mliteral_eval\u001b[0m\n    node_or_string = parse(node_or_string.lstrip(\" \\t\"), mode='eval')\u001b[0m\n",
      "\u001b[1;36m  File \u001b[1;32m~\\anaconda3\\Lib\\ast.py:50\u001b[1;36m in \u001b[1;35mparse\u001b[1;36m\n\u001b[1;33m    return compile(source, filename, mode, flags,\u001b[1;36m\n",
      "\u001b[1;36m  File \u001b[1;32m<unknown>\u001b[1;36m\u001b[0m\n\u001b[1;33m    \u001b[0m\n\u001b[1;37m    ^\u001b[0m\n\u001b[1;31mSyntaxError\u001b[0m\u001b[1;31m:\u001b[0m invalid syntax\n"
     ]
    }
   ],
   "source": [
    "# Input:[\"pasta\",\"pasta\",\"pasta\",\"pasta\",\"pasta\",\"paratha\",\"paratha\",\"paratha\"] Output : pasta\n",
    "\n",
    "# Method 1\n",
    "import ast,sys\n",
    "input_str = sys.stdin.read()\n",
    "votes = ast.literal_eval(input_str)\n",
    "vote_value = {}\n",
    "for v in votes:\n",
    "    if v in vote_value:\n",
    "        vote_value[v] += 1\n",
    "    else:\n",
    "        vote_value[v] = 1\n",
    "size = len(votes)\n",
    "flag = 0\n",
    "for v in vote_value.keys():\n",
    "    if vote_value[v] > size/2:\n",
    "        print(v)\n",
    "        flag = 1\n",
    "        break\n",
    "if flag == 0:\n",
    "    print(\"NOTA\")\n",
    "    \n",
    "# Method 2\n",
    "import ast,sys\n",
    "input_str = sys.stdin.read()\n",
    "votes = ast.literal_eval(input_str)\n",
    "food_votes = {}\n",
    "for food in votes:\n",
    "    if food in food_votes:\n",
    "        food_votes[food] += 1\n",
    "    else:\n",
    "        food_votes[food] = 1\n",
    "total_votes = len(votes)\n",
    "winning_food = None\n",
    "for food, count in food_votes.items():\n",
    "    if count > total_votes / 2:\n",
    "        winning_food = food\n",
    "        break\n",
    "if winning_food:\n",
    "    print(winning_food)\n",
    "else:\n",
    "    print(\"NOTA\")"
   ]
  },
  {
   "cell_type": "code",
   "execution_count": null,
   "id": "f7afb41d",
   "metadata": {},
   "outputs": [],
   "source": []
  }
 ],
 "metadata": {
  "kernelspec": {
   "display_name": "Python 3 (ipykernel)",
   "language": "python",
   "name": "python3"
  },
  "language_info": {
   "codemirror_mode": {
    "name": "ipython",
    "version": 3
   },
   "file_extension": ".py",
   "mimetype": "text/x-python",
   "name": "python",
   "nbconvert_exporter": "python",
   "pygments_lexer": "ipython3",
   "version": "3.11.3"
  }
 },
 "nbformat": 4,
 "nbformat_minor": 5
}
