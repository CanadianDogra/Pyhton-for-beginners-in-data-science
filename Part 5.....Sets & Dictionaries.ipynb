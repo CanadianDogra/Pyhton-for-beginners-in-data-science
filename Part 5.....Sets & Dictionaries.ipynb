{
 "cells": [
  {
   "cell_type": "markdown",
   "id": "8efc7c77",
   "metadata": {},
   "source": [
    "# Sets & Dictionaries"
   ]
  },
  {
   "cell_type": "code",
   "execution_count": 3,
   "id": "844ad433",
   "metadata": {},
   "outputs": [
    {
     "data": {
      "text/plain": [
       "{1, 2, 3, 4}"
      ]
     },
     "execution_count": 3,
     "metadata": {},
     "output_type": "execute_result"
    }
   ],
   "source": [
    "# Sets is an unordered pair of collection of data\n",
    "# they are usuually seperated by comma(<) and curly brackets{}\n",
    "\n",
    "s = {1,2,3,4,2,2,4}\n",
    "s #set doesnot take duplicate values"
   ]
  },
  {
   "cell_type": "code",
   "execution_count": 4,
   "id": "89308cb4",
   "metadata": {},
   "outputs": [],
   "source": [
    "#if we want to convert an item to set we will use\n",
    "# x = set( (\"\") )"
   ]
  },
  {
   "cell_type": "code",
   "execution_count": 10,
   "id": "271b6e2b",
   "metadata": {},
   "outputs": [
    {
     "name": "stdout",
     "output_type": "stream",
     "text": [
      "{'banana', 'apple', 'orange', 'cherry'}\n"
     ]
    }
   ],
   "source": [
    "# if we want to add any item into set we can use x.add(\"\")\n",
    "x= {\"apple\", \"banana\", \"cherry\"}\n",
    "x.add(\"orange\")\n",
    "\n",
    "print(x)"
   ]
  },
  {
   "cell_type": "code",
   "execution_count": 13,
   "id": "a9f67533",
   "metadata": {},
   "outputs": [
    {
     "name": "stdout",
     "output_type": "stream",
     "text": [
      "{'banana', 'apple', 'pineapple', 'papaya', 'mango', 'cherry'}\n"
     ]
    }
   ],
   "source": [
    "# if we want to add one set top another we can use x.update(y) here we are adding y into x\n",
    "\n",
    "x = {\"apple\", \"banana\", \"cherry\"}\n",
    "y = {\"pineapple\", \"mango\", \"papaya\"}\n",
    "x.update(y)\n",
    "print(x) # NOTE : here update in set can be used to add any iterable item(list, dictionaries,)"
   ]
  },
  {
   "cell_type": "code",
   "execution_count": 19,
   "id": "c294e5cd",
   "metadata": {},
   "outputs": [
    {
     "name": "stdout",
     "output_type": "stream",
     "text": [
      "{'jammu', 'UP'}\n"
     ]
    }
   ],
   "source": [
    "# IF we want to remove , discard, pop an item from the set we can use the following\n",
    "# NOTE : if the item in the set does not exist only the discard will not give us an error, but if an item is not present in \n",
    "# the set and if we use remove function it will give us an error\n",
    "x = {\"jammu\", \"delhi\", \"UP\"}\n",
    "x.remove(\"delhi\")\n",
    "print(x)\n",
    "\n",
    "#x.remove(\"HP\")\n",
    "#print(x) # here x.remove(\"HP\") gave us an error because it is not present in the set"
   ]
  },
  {
   "cell_type": "code",
   "execution_count": 25,
   "id": "a758a64b",
   "metadata": {},
   "outputs": [
    {
     "name": "stdout",
     "output_type": "stream",
     "text": [
      "{'jammu'}\n",
      "{'jammu'}\n"
     ]
    }
   ],
   "source": [
    "x.discard(\"UP\")\n",
    "print(x)\n",
    "\n",
    "x.discard(\"HP\")\n",
    "print(x) # look x.discard(\"HP\") does not give us an error though HP is not preset in the set"
   ]
  },
  {
   "cell_type": "code",
   "execution_count": 33,
   "id": "587fa2ec",
   "metadata": {},
   "outputs": [
    {
     "name": "stdout",
     "output_type": "stream",
     "text": [
      "{'b', 1, 2, 3, 'c', 'a'}\n"
     ]
    }
   ],
   "source": [
    "# Now to add two sets or we can say union of two sets\n",
    "set1 = {\"a\", \"b\" , \"c\"}\n",
    "set2 = {1, 2, 3}\n",
    "\n",
    "set3 = set1.union(set2)\n",
    "print(set3)\n",
    "\n",
    "#NOTE : union will not take any value which is repeated or in simple words duplicate values\n"
   ]
  },
  {
   "cell_type": "code",
   "execution_count": 2,
   "id": "1ef2cc14",
   "metadata": {},
   "outputs": [
    {
     "name": "stdout",
     "output_type": "stream",
     "text": [
      "{'apple'}\n"
     ]
    }
   ],
   "source": [
    "# IF we want to finf the common values between two sets we will use x.intersection(y)\n",
    "x = {\"apple\", \"banana\", \"cherry\"}\n",
    "y = {\"google\", \"microsoft\", \"apple\"}\n",
    "\n",
    "x.intersection_update(y)\n",
    "\n",
    "print(x)"
   ]
  },
  {
   "cell_type": "code",
   "execution_count": 37,
   "id": "76d8b262",
   "metadata": {},
   "outputs": [],
   "source": [
    "#len(): Returns the length of the set.\n",
    "# isdisjoint(): Returns True if the two sets have no elements in common.\n",
    "#● issubset(): Returns True if the first set is a subset of the second set.\n",
    "#● issuperset(): Returns True if the first set is a superset of the second set.\n",
    "#● union(): Returns a set that contains all the elements of the two sets.\n",
    "#● intersection(): Returns a set that contains all the elements that are common to\n",
    "#the two sets.\n",
    "#● difference(): Returns a set that contains all the elements that are in the first set\n",
    "#but not in the second set.\n",
    "#● symmetric_difference(): Returns a set that contains all the elements that are\n",
    "# in either the first set or the second set but not in both"
   ]
  },
  {
   "cell_type": "markdown",
   "id": "48d0804e",
   "metadata": {},
   "source": [
    "# DICTIONARIES"
   ]
  },
  {
   "cell_type": "code",
   "execution_count": 41,
   "id": "f354aa3c",
   "metadata": {},
   "outputs": [],
   "source": [
    "# Dictionaries are mutable , means we can change values \n",
    "# they are represented by {x:y} where x is a key and y is a value pair or dict()"
   ]
  },
  {
   "cell_type": "code",
   "execution_count": 40,
   "id": "69c8a01b",
   "metadata": {
    "scrolled": true
   },
   "outputs": [
    {
     "name": "stdout",
     "output_type": "stream",
     "text": [
      "Ford\n"
     ]
    }
   ],
   "source": [
    "thisdict = {\"brand\": \"Ford\",\"model\": \"Mustang\",  \"year\": 1964}\n",
    "print(thisdict[\"brand\"])"
   ]
  },
  {
   "cell_type": "code",
   "execution_count": 53,
   "id": "5c9db8b1",
   "metadata": {},
   "outputs": [
    {
     "name": "stdout",
     "output_type": "stream",
     "text": [
      "{'brand': 'Ford', 'model': 'Mustang', 'year': 1964}\n"
     ]
    }
   ],
   "source": [
    "x = dict(brand= \"Ford\",model= \"Mustang\",  year=1964)\n",
    "print(x)"
   ]
  },
  {
   "cell_type": "code",
   "execution_count": 54,
   "id": "cb5cb941",
   "metadata": {},
   "outputs": [],
   "source": [
    "# if we want to get the value of an key we will use x.get() or x =dict(\"keyname\")"
   ]
  },
  {
   "cell_type": "code",
   "execution_count": 71,
   "id": "5e3ceea2",
   "metadata": {
    "scrolled": true
   },
   "outputs": [
    {
     "name": "stdout",
     "output_type": "stream",
     "text": [
      "name\n",
      "caste\n",
      "state\n"
     ]
    }
   ],
   "source": [
    "# Print all KEY NAMES in the dictionary, one by one:\n",
    "x = {\"name\" : \"abhinav\", \"caste\" : \"sharma\", \"state\": \"jammu\"}\n",
    "for x in x:\n",
    "  print(x) # it will print all the key names \n",
    "\n",
    "\n"
   ]
  },
  {
   "cell_type": "code",
   "execution_count": null,
   "id": "a917603e",
   "metadata": {},
   "outputs": [],
   "source": []
  }
 ],
 "metadata": {
  "kernelspec": {
   "display_name": "Python 3 (ipykernel)",
   "language": "python",
   "name": "python3"
  },
  "language_info": {
   "codemirror_mode": {
    "name": "ipython",
    "version": 3
   },
   "file_extension": ".py",
   "mimetype": "text/x-python",
   "name": "python",
   "nbconvert_exporter": "python",
   "pygments_lexer": "ipython3",
   "version": "3.11.3"
  }
 },
 "nbformat": 4,
 "nbformat_minor": 5
}
