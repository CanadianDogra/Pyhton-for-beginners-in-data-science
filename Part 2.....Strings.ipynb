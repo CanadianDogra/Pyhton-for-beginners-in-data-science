{
 "cells": [
  {
   "cell_type": "markdown",
   "id": "41c8bf4e",
   "metadata": {},
   "source": [
    "# STRINGS\n",
    "\n",
    "### Here we will learn everything about strings"
   ]
  },
  {
   "cell_type": "code",
   "execution_count": 6,
   "id": "39f39ea3",
   "metadata": {},
   "outputs": [
    {
     "name": "stdout",
     "output_type": "stream",
     "text": [
      "Hey\n",
      "hey\n",
      "kaise \n",
      "ho \n"
     ]
    }
   ],
   "source": [
    "# strings are surrounded by single quotation(' ') or double quotation(\" \")\n",
    "\n",
    "# since we learned that = means assigining value\n",
    "\n",
    "x = \"Hey\"\n",
    "print(x)\n",
    "\n",
    "# if we have to type multiline strings or in simple words we can say that if we have to type a para graph in python \n",
    "# we will use triple quotation (\"\"\" \"\"\")\n",
    "# for example\n",
    "y = \"\"\"hey\n",
    "kaise \n",
    "ho \"\"\"\n",
    "print(y)\n",
    "# note : we can also use single quotation"
   ]
  },
  {
   "cell_type": "code",
   "execution_count": 2,
   "id": "79db5d27",
   "metadata": {},
   "outputs": [
    {
     "name": "stdout",
     "output_type": "stream",
     "text": [
      "B\n",
      "Q\n"
     ]
    },
    {
     "data": {
      "text/plain": [
       "'Q'"
      ]
     },
     "execution_count": 2,
     "metadata": {},
     "output_type": "execute_result"
    }
   ],
   "source": [
    "# Indexing\n",
    "\n",
    "#Every object in string is assigned an index\n",
    "\n",
    "# for eg\n",
    "\n",
    "x = \"ABCDEFGHIJKLMNOPQRSTUVWXYZ\" # now we have to find out the index of U\n",
    "# we either write\n",
    "print(x[1]) or x[1] # this is positive indexing\n",
    "\n",
    "print(x[-10]) or x[-10] # this is negative indexing\n",
    "\n",
    "\n",
    "# Note : Forward indexing starts with 0\n",
    "        #Reverse indexing start with last character as -1 in a python string\n",
    "        #Strings are immutable which means they cannot be changed once created.\n",
    "        #Strings can be modified by slicing a part of it and concatenating with another "
   ]
  },
  {
   "cell_type": "code",
   "execution_count": 10,
   "id": "e527e5c4",
   "metadata": {},
   "outputs": [
    {
     "data": {
      "text/plain": [
       "26"
      ]
     },
     "execution_count": 10,
     "metadata": {},
     "output_type": "execute_result"
    }
   ],
   "source": [
    "# To find the length of the string\n",
    "len(x)"
   ]
  },
  {
   "cell_type": "code",
   "execution_count": 17,
   "id": "e8c2fe66",
   "metadata": {},
   "outputs": [
    {
     "name": "stdout",
     "output_type": "stream",
     "text": [
      "True\n",
      "False\n",
      "True\n",
      "False\n"
     ]
    }
   ],
   "source": [
    "# if we have to check weather a word is present in our given input or not \n",
    "x = \"Bhai kaisa hai, bada aadmi ban gya hai, dikhta hi nahi aajkl\"\n",
    "\n",
    "print(\"bada\" in x)\n",
    "\n",
    "#our output is true , which means bada is present in our given input\n",
    "\n",
    "print('gumne' in x)\n",
    "# output is false that means gumne is not present in our input\n",
    "\n",
    "print(\"B\" in x)\n",
    "#output is true which means word B is present in our guven input\n",
    "\n",
    "print(\"Z\" in x)\n",
    "#do i need to explain why our output is false? lgta nahi. "
   ]
  },
  {
   "cell_type": "code",
   "execution_count": 25,
   "id": "a7f8ecf6",
   "metadata": {},
   "outputs": [
    {
     "name": "stdout",
     "output_type": "stream",
     "text": [
      "Bhai ka\n",
      "Ba as a,bd am a \n"
     ]
    }
   ],
   "source": [
    "# SLICING STRINGS\n",
    "y = x[0:7]\n",
    "print(y)\n",
    "\n",
    "#if we want to slice the strings after proper spaces or in simplw words we want to leave 2 spaces then we will use\n",
    "z = x[0:32:2]\n",
    "print(z) # this means we get the strings from 0 to 32 leaving 2 spaces between then properly"
   ]
  },
  {
   "cell_type": "markdown",
   "id": "d8f38738",
   "metadata": {},
   "source": [
    "# String Concatenation\n"
   ]
  },
  {
   "cell_type": "code",
   "execution_count": 40,
   "id": "29edb18e",
   "metadata": {},
   "outputs": [
    {
     "name": "stdout",
     "output_type": "stream",
     "text": [
      "Sharma ji kaise ho , aajkl dikhte nahi ho.\n",
      "bandra,mumbai\n",
      "bandra,mumbai\n"
     ]
    }
   ],
   "source": [
    "x = \"Sharma ji kaise ho\"\n",
    "y = \"aajkl dikhte nahi ho.\"\n",
    "\n",
    "print(x+\" , \"+y) # do we need to explain ?\n",
    "\n",
    "# suppose we have an input of a state and a city and we want to seperate .\n",
    "\n",
    "# Method 1 \n",
    "z = \"bmaunmdbraai\"\n",
    "\n",
    "state = z[0::2] \n",
    "city = z[1::2]\n",
    "\n",
    "print(state+\",\"+city) #got it?\n",
    "# here we seperated bandra and mumbai from the word bmaunmdbraai... leaving 2 spaces after everyword\n",
    "\n",
    "# Method 2\n",
    "message1 = z[0:-1:2]\n",
    "message2 = z[1:len(z):2]\n",
    "print(message1.strip('#')+\",\"+message2.strip('#'))\n"
   ]
  },
  {
   "cell_type": "code",
   "execution_count": 37,
   "id": "c358f15c",
   "metadata": {},
   "outputs": [
    {
     "name": "stdout",
     "output_type": "stream",
     "text": [
      "bandra,mumbai\n"
     ]
    }
   ],
   "source": [
    "\n",
    "message1 = input_str[0:-1:2]\n",
    "message2 = input_str[1:len(input_str):2]\n",
    "print(message1.strip('#')+\",\"+message2.strip('#'))\n"
   ]
  },
  {
   "cell_type": "markdown",
   "id": "00c71591",
   "metadata": {},
   "source": [
    "### STRING METHODS"
   ]
  },
  {
   "cell_type": "code",
   "execution_count": 41,
   "id": "3ca5c081",
   "metadata": {},
   "outputs": [
    {
     "name": "stdout",
     "output_type": "stream",
     "text": [
      "Sharma ji kaise ho, aap toh eid ka chand hogye.\n"
     ]
    }
   ],
   "source": [
    "x = \"sharma ji kaise ho, aap Toh eid ka chand hogye.#\"\n",
    "\n",
    "# if we want to Capitalize the first character of sharna we will use x.capitalize\n",
    "y = x.capitalize()\n",
    "print(y)"
   ]
  },
  {
   "cell_type": "code",
   "execution_count": 48,
   "id": "8c065702",
   "metadata": {},
   "outputs": [
    {
     "name": "stdout",
     "output_type": "stream",
     "text": [
      "sharma ji kaise ho, aap toh eid ka chand hogye.\n"
     ]
    }
   ],
   "source": [
    "#if we want to make the given input into lower case , we will use x.casefold() #/we can also use x.lower\n",
    "print(x.lower())"
   ]
  },
  {
   "cell_type": "code",
   "execution_count": 47,
   "id": "fc273469",
   "metadata": {},
   "outputs": [
    {
     "name": "stdout",
     "output_type": "stream",
     "text": [
      "SHARMA JI KAISE HO, AAP TOH EID KA CHAND HOGYE.\n"
     ]
    }
   ],
   "source": [
    "#if we want to make the given input into upper case, we will use x.upper\n",
    "print(x.upper())"
   ]
  },
  {
   "cell_type": "code",
   "execution_count": 51,
   "id": "9dce109f",
   "metadata": {},
   "outputs": [
    {
     "name": "stdout",
     "output_type": "stream",
     "text": [
      "sharma ji kaise ho, aap toh eid ka chand hogye.\n"
     ]
    }
   ],
   "source": [
    "#if we want to strip remove the spaces from the both sides from the given input we will use x.strip()\n",
    "#if we have whitespaces only at left or right side, we will use x.lstrip() / or x.rstrip()\n",
    "print(x.strip())"
   ]
  },
  {
   "cell_type": "code",
   "execution_count": 54,
   "id": "dc2c3097",
   "metadata": {},
   "outputs": [
    {
     "name": "stdout",
     "output_type": "stream",
     "text": [
      "3\n",
      "2\n"
     ]
    }
   ],
   "source": [
    "# if we want to count something from the given input it can either be a word or an alphabet we will use x.count\n",
    "print(x.count(\"i\"))\n",
    "\n",
    "#suppose if we want to count from a specific index we will use\n",
    "print(x.count(\"i\", 1,20)) \n",
    "#here we have to count the aplhabet \"i\" from index 1 to index 20"
   ]
  },
  {
   "cell_type": "code",
   "execution_count": 56,
   "id": "0fd11f50",
   "metadata": {},
   "outputs": [
    {
     "name": "stdout",
     "output_type": "stream",
     "text": [
      "8\n"
     ]
    }
   ],
   "source": [
    "#if we want to find the index of any digit from the given input, we will use x.input(\"\")\n",
    "print(x.index(\"i\"))"
   ]
  },
  {
   "cell_type": "code",
   "execution_count": null,
   "id": "6e24dda6",
   "metadata": {},
   "outputs": [],
   "source": []
  },
  {
   "cell_type": "code",
   "execution_count": null,
   "id": "a311baa5",
   "metadata": {},
   "outputs": [],
   "source": [
    "num%i==0"
   ]
  }
 ],
 "metadata": {
  "kernelspec": {
   "display_name": "Python 3 (ipykernel)",
   "language": "python",
   "name": "python3"
  },
  "language_info": {
   "codemirror_mode": {
    "name": "ipython",
    "version": 3
   },
   "file_extension": ".py",
   "mimetype": "text/x-python",
   "name": "python",
   "nbconvert_exporter": "python",
   "pygments_lexer": "ipython3",
   "version": "3.11.3"
  }
 },
 "nbformat": 4,
 "nbformat_minor": 5
}
