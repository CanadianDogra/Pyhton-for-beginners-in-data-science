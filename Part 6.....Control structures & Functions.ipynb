{
 "cells": [
  {
   "cell_type": "markdown",
   "id": "43420275",
   "metadata": {},
   "source": [
    "# Control structures are used ti control the order of execution of a program on basis of logic and values\n",
    "### Control structures : - if eilif else\n",
    "####                                         -for loop\n",
    "####                                         - while loop\n",
    "####                                         -list comprehension\n",
    "####                                         -Dictionary comprehension\n",
    "#### Functions, Map, Filter, Reduce"
   ]
  },
  {
   "cell_type": "markdown",
   "id": "ed5d4b32",
   "metadata": {},
   "source": [
    "## if-else"
   ]
  },
  {
   "cell_type": "code",
   "execution_count": 2,
   "id": "dd640ed8",
   "metadata": {},
   "outputs": [],
   "source": [
    "# if statement :\n",
    "# wel will use indentation , which means the code is under the for statement\n",
    "# else :\n",
    "# statement 2\n",
    "\n",
    "# if the code is true then the code will be executed in the if block , if not then the code will get executed in the else block"
   ]
  },
  {
   "cell_type": "markdown",
   "id": "cdd36f74",
   "metadata": {},
   "source": [
    "### Iterations"
   ]
  },
  {
   "cell_type": "code",
   "execution_count": 4,
   "id": "22b40b7c",
   "metadata": {},
   "outputs": [],
   "source": [
    "#Iterate over a fixed sets of values ( provided in the form of a iterable objects such as strings, lists, tuples etc.)\n",
    "# (also generated using a range() function)"
   ]
  },
  {
   "cell_type": "code",
   "execution_count": 3,
   "id": "8a7f79c9",
   "metadata": {},
   "outputs": [
    {
     "name": "stdout",
     "output_type": "stream",
     "text": [
      "1  2  3  4  5  6  7  8  9  "
     ]
    }
   ],
   "source": [
    "# Range function\n",
    " # range(start,end) does not take the end value\n",
    "for i in range(1,10):\n",
    "    print(i, end= \"  \")"
   ]
  },
  {
   "cell_type": "markdown",
   "id": "5eb85a44",
   "metadata": {},
   "source": [
    "## if else, elif else, if elif else"
   ]
  },
  {
   "cell_type": "code",
   "execution_count": 10,
   "id": "c609a5f3",
   "metadata": {},
   "outputs": [],
   "source": [
    "#The elif keyword is Python's way of saying \"if the previous conditions were not true, then try this condition\"."
   ]
  },
  {
   "cell_type": "code",
   "execution_count": 11,
   "id": "994ce434",
   "metadata": {
    "scrolled": true
   },
   "outputs": [
    {
     "name": "stdout",
     "output_type": "stream",
     "text": [
      "a and b are equal\n"
     ]
    }
   ],
   "source": [
    "a = 33\n",
    "b = 33\n",
    "if b > a:\n",
    "  print(\"b is greater than a\")\n",
    "elif a == b:\n",
    "  print(\"a and b are equal\")"
   ]
  },
  {
   "cell_type": "code",
   "execution_count": 11,
   "id": "346123af",
   "metadata": {
    "scrolled": true
   },
   "outputs": [
    {
     "data": {
      "text/plain": [
       "[-2, 33, 46, 78, 1]"
      ]
     },
     "execution_count": 11,
     "metadata": {},
     "output_type": "execute_result"
    }
   ],
   "source": [
    "L1 = [2, 7, 8, 10, 3]\n",
    "\n",
    "def func(y):\n",
    "    return y**2 - 2 * y - 2\n",
    "\n",
    "ans_list = [func(x) for x in L1]\n",
    "ans_list"
   ]
  },
  {
   "cell_type": "markdown",
   "id": "6afeb749",
   "metadata": {},
   "source": [
    "# For loop"
   ]
  },
  {
   "cell_type": "code",
   "execution_count": 13,
   "id": "1568eef9",
   "metadata": {},
   "outputs": [],
   "source": [
    "# for loop is used to iterate over a sequence of lists, sets, tuples and executes block of codes for each code in sequence"
   ]
  },
  {
   "cell_type": "code",
   "execution_count": null,
   "id": "f504c7f6",
   "metadata": {},
   "outputs": [],
   "source": [
    "# for loops can not be empty, if it is empty then we have to use the pass \n",
    "# breal will break the loop and continue will exclude the current iteration "
   ]
  },
  {
   "cell_type": "markdown",
   "id": "d74a4257",
   "metadata": {},
   "source": [
    "# While loop"
   ]
  },
  {
   "cell_type": "code",
   "execution_count": 14,
   "id": "7ce9b87e",
   "metadata": {},
   "outputs": [],
   "source": [
    "#while loop executes a statement as long as the condition is true.\n",
    "#"
   ]
  },
  {
   "cell_type": "code",
   "execution_count": 16,
   "id": "1c11fbba",
   "metadata": {},
   "outputs": [],
   "source": [
    "# DIFFERENCE BTW FOR AND WHILE LOOP\n",
    "# 1. while loop requires condition to iterate for loop does not.\n",
    "# 2. while loop terminates when the given condition becomes false and for loop terminates when it has irerated over each elements in the sequence\n",
    "# 3. syntax : while condition.. and for variable in sequence\n"
   ]
  },
  {
   "cell_type": "markdown",
   "id": "a79a0360",
   "metadata": {},
   "source": [
    "# Comprehensions"
   ]
  },
  {
   "cell_type": "code",
   "execution_count": 17,
   "id": "7ae4f692",
   "metadata": {},
   "outputs": [],
   "source": [
    "# 1. list comprehension. syntax (newlist = [expression for item in iterable if condition == True])\n",
    "# or we can use it without if as newlist = [x for x in iteerable]"
   ]
  },
  {
   "cell_type": "markdown",
   "id": "f8acf9f1",
   "metadata": {},
   "source": [
    "# Map, Filter, Reduce"
   ]
  },
  {
   "cell_type": "code",
   "execution_count": 18,
   "id": "3018294f",
   "metadata": {},
   "outputs": [],
   "source": [
    "# the main reason between map filter and reduce is that \n",
    "# map returns the same no. of iterations\n",
    "# filter may or may not returns the same no. of iterations\n",
    "# reduce reduces to single value."
   ]
  },
  {
   "cell_type": "code",
   "execution_count": 19,
   "id": "3276a13f",
   "metadata": {},
   "outputs": [],
   "source": [
    "#the syntax is same of them\n",
    "# but we import reduce from functools"
   ]
  },
  {
   "cell_type": "code",
   "execution_count": null,
   "id": "c1f95831",
   "metadata": {},
   "outputs": [],
   "source": []
  }
 ],
 "metadata": {
  "kernelspec": {
   "display_name": "Python 3 (ipykernel)",
   "language": "python",
   "name": "python3"
  },
  "language_info": {
   "codemirror_mode": {
    "name": "ipython",
    "version": 3
   },
   "file_extension": ".py",
   "mimetype": "text/x-python",
   "name": "python",
   "nbconvert_exporter": "python",
   "pygments_lexer": "ipython3",
   "version": "3.11.3"
  }
 },
 "nbformat": 4,
 "nbformat_minor": 5
}
