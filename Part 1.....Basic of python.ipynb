{
 "cells": [
  {
   "cell_type": "markdown",
   "id": "6cac9f68",
   "metadata": {},
   "source": [
    "# This is the basic of python\n",
    "## here in this i will tell you about Operator Preceedence Rule\n",
    "\n"
   ]
  },
  {
   "cell_type": "code",
   "execution_count": 4,
   "id": "55ab3d48",
   "metadata": {},
   "outputs": [
    {
     "data": {
      "text/plain": [
       "3"
      ]
     },
     "execution_count": 4,
     "metadata": {},
     "output_type": "execute_result"
    }
   ],
   "source": [
    "#This is addition\n",
    "#x + y = z\n",
    "\n",
    "#example \n",
    "1 + 2 "
   ]
  },
  {
   "cell_type": "code",
   "execution_count": 5,
   "id": "8f4be144",
   "metadata": {},
   "outputs": [
    {
     "data": {
      "text/plain": [
       "-1"
      ]
     },
     "execution_count": 5,
     "metadata": {},
     "output_type": "execute_result"
    }
   ],
   "source": [
    "#This is subtraction\n",
    "#x - y = z\n",
    "\n",
    "3-2"
   ]
  },
  {
   "cell_type": "code",
   "execution_count": 6,
   "id": "4f1ec105",
   "metadata": {},
   "outputs": [
    {
     "data": {
      "text/plain": [
       "6"
      ]
     },
     "execution_count": 6,
     "metadata": {},
     "output_type": "execute_result"
    }
   ],
   "source": [
    "#this is multiplication\n",
    "# in multiplication we use one asterisk(*)\n",
    "\n",
    "#x * y = z\n",
    "3 * 2"
   ]
  },
  {
   "cell_type": "code",
   "execution_count": 9,
   "id": "f3081376",
   "metadata": {},
   "outputs": [
    {
     "data": {
      "text/plain": [
       "2.0"
      ]
     },
     "execution_count": 9,
     "metadata": {},
     "output_type": "execute_result"
    }
   ],
   "source": [
    "#this is division\n",
    "#x/y = z\n",
    "8/4\n",
    "\n",
    "# we received 2.0 as an output , if we want to receive only 2 as an output we will use int(8/4)"
   ]
  },
  {
   "cell_type": "code",
   "execution_count": 13,
   "id": "342b5c39",
   "metadata": {},
   "outputs": [
    {
     "data": {
      "text/plain": [
       "2"
      ]
     },
     "execution_count": 13,
     "metadata": {},
     "output_type": "execute_result"
    }
   ],
   "source": [
    "#this is floor divison\n",
    "#x//y\n",
    "\n",
    "8//3\n",
    "# we received 2 as an output as the remainder 2 is more close to 3"
   ]
  },
  {
   "cell_type": "code",
   "execution_count": 14,
   "id": "1cb7d4ae",
   "metadata": {},
   "outputs": [
    {
     "data": {
      "text/plain": [
       "9"
      ]
     },
     "execution_count": 14,
     "metadata": {},
     "output_type": "execute_result"
    }
   ],
   "source": [
    "# this is exponenent form\n",
    "\n",
    "# like if we want to get exponent of any digit\n",
    "\n",
    "#NOTE : here we will use double asterisk(**)\n",
    "\n",
    "#x**y = z\n",
    "\n",
    "3**2"
   ]
  },
  {
   "cell_type": "code",
   "execution_count": 8,
   "id": "8f82d03b",
   "metadata": {},
   "outputs": [
    {
     "name": "stdout",
     "output_type": "stream",
     "text": [
      "1\n",
      "2\n",
      "3\n"
     ]
    }
   ],
   "source": [
    "D = {1:['Raj', 22], 2:['Simran', 21], 3:['Rahul', 40]}\n",
    "for val in D:\n",
    "     print(val)"
   ]
  },
  {
   "cell_type": "code",
   "execution_count": 1,
   "id": "68a95e94",
   "metadata": {},
   "outputs": [
    {
     "data": {
      "text/plain": [
       "0"
      ]
     },
     "execution_count": 1,
     "metadata": {},
     "output_type": "execute_result"
    }
   ],
   "source": [
    "# This is modulus form which means if we divide any number if they give us any remainder that will be our modulus\n",
    " # x % y = z\n",
    "#4 % 100\n",
    "#3% 9\n",
    "25 % 5\n",
    "#24 % 7"
   ]
  },
  {
   "cell_type": "markdown",
   "id": "2a0c17ee",
   "metadata": {},
   "source": [
    "# it also follows BODMAS Rule\n"
   ]
  },
  {
   "cell_type": "code",
   "execution_count": 17,
   "id": "d35065a5",
   "metadata": {},
   "outputs": [
    {
     "data": {
      "text/plain": [
       "-2"
      ]
     },
     "execution_count": 17,
     "metadata": {},
     "output_type": "execute_result"
    }
   ],
   "source": [
    "# let us take an exapmle \n",
    "4 % (1 + 9)**2 - 60 // (7 + 2)\n",
    "\n",
    "# Step 1 : first we will solve Brackets () which gives us 4 % (10)**2 - 60 // (9)\n",
    "# Step 2 : Then we will solve exponential form (**) which gives us 4 % 100 - 60 // (9)\n",
    "# step 3 : then will solve floor division // which gives us 4 % 100 - 6\n",
    "# Step 4 : then we will solve modulus % which gives us 4 - 6\n",
    "# Step 5 : hence we are left with only subtraction which gives us - 2 as an output"
   ]
  },
  {
   "cell_type": "markdown",
   "id": "b67b0fa8",
   "metadata": {},
   "source": [
    "# Rational operators"
   ]
  },
  {
   "cell_type": "code",
   "execution_count": 22,
   "id": "bf3cd084",
   "metadata": {},
   "outputs": [],
   "source": [
    "#   == : equal to \n",
    " # Note : In python we dont use single = , \n",
    "# = means we are assigning the value to an object\n",
    "\n",
    "#   != : not equal to\n",
    "\n",
    "#   < : less than\n",
    "\n",
    "#   <= : less than equal to\n",
    "    \n",
    "#   > : greater than\n",
    "\n",
    "#   >= : greater than equal to\n"
   ]
  },
  {
   "cell_type": "markdown",
   "id": "ddfcfcd5",
   "metadata": {},
   "source": [
    "# Logical Operators"
   ]
  },
  {
   "cell_type": "code",
   "execution_count": 23,
   "id": "325abc70",
   "metadata": {},
   "outputs": [],
   "source": [
    "# or = means either this or that or we can say that True if both statements are true\n",
    "\n",
    "# and ==means both of them or we can say that the output will be true if it satisfies the input\n",
    "\n",
    "# not == means it returns False if the result is true"
   ]
  },
  {
   "cell_type": "code",
   "execution_count": null,
   "id": "b27d4d08",
   "metadata": {},
   "outputs": [],
   "source": []
  },
  {
   "cell_type": "code",
   "execution_count": null,
   "id": "61a9d199",
   "metadata": {},
   "outputs": [],
   "source": []
  }
 ],
 "metadata": {
  "kernelspec": {
   "display_name": "Python 3 (ipykernel)",
   "language": "python",
   "name": "python3"
  },
  "language_info": {
   "codemirror_mode": {
    "name": "ipython",
    "version": 3
   },
   "file_extension": ".py",
   "mimetype": "text/x-python",
   "name": "python",
   "nbconvert_exporter": "python",
   "pygments_lexer": "ipython3",
   "version": "3.11.3"
  }
 },
 "nbformat": 4,
 "nbformat_minor": 5
}
